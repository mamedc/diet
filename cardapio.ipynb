{
 "cells": [
  {
   "cell_type": "code",
   "execution_count": 1,
   "metadata": {
    "collapsed": true
   },
   "outputs": [],
   "source": [
    "import datetime\n",
    "import pandas as pd\n",
    "import numpy as np\n",
    "from IPython.display import clear_output"
   ]
  },
  {
   "cell_type": "markdown",
   "metadata": {},
   "source": [
    " "
   ]
  },
  {
   "cell_type": "markdown",
   "metadata": {},
   "source": [
    "### Ingredientes"
   ]
  },
  {
   "cell_type": "code",
   "execution_count": 2,
   "metadata": {
    "collapsed": true
   },
   "outputs": [],
   "source": [
    "def incluirIngr(nome, unid, compra, dfIn):\n",
    "    df = pd.DataFrame(data = [[nome, unid, compra]], \\\n",
    "            columns = ['ingrediente', 'unidade', 'compra'])\n",
    "    return(dfIn.append(df, ignore_index = True))"
   ]
  },
  {
   "cell_type": "code",
   "execution_count": 3,
   "metadata": {
    "collapsed": true
   },
   "outputs": [],
   "source": [
    "ingredientes = [\n",
    "    ('aipo', 'talo', 'hortifruti'), \n",
    "    ('abacate', 'unid', 'hortifruti'), \n",
    "    ('nozes', 'xic', 'cp/mv'), \n",
    "    ('azeitona preta', 'unid', 'hortifruti'), \n",
    "    ('azeite', 'clh', 'hortifruti'), \n",
    "    ('arroz branco', 'xic', 'hortifruti'), \n",
    "    ('papaya', 'unid', 'hortifruti'), \n",
    "    ('banana', 'unid', 'hortifruti'), \n",
    "    ('tapioca', 'xic', 'hortifruti'), \n",
    "    ('tomate', 'unid', 'hortifruti'), \n",
    "    ('cafe', 'clh', 'hortifruti'), \n",
    "    ('laranja pera', 'unid', 'hortifruti'), \n",
    "    ('ovo', 'unid', 'hortifruti'), \n",
    "    ('geleia', 'clh', 'hortifruti'), \n",
    "    ('feijao preto', 'xic', 'hortifruti'), \n",
    "    ('bife', 'unid', 'hortifruti'), \n",
    "    ('quinoa branca', 'xic', 'cp/mv'), \n",
    "    ('presunto', 'fat', 'hortifruti'), \n",
    "    ('melao', 'fat', 'hortifruti'), \n",
    "    ('limao', 'unid', 'hortifruti'), \n",
    "    ('acucar especial', 'clh', 'hortifruti'), \n",
    "    ]"
   ]
  },
  {
   "cell_type": "code",
   "execution_count": 4,
   "metadata": {},
   "outputs": [
    {
     "data": {
      "text/html": [
       "<div>\n",
       "<style>\n",
       "    .dataframe thead tr:only-child th {\n",
       "        text-align: right;\n",
       "    }\n",
       "\n",
       "    .dataframe thead th {\n",
       "        text-align: left;\n",
       "    }\n",
       "\n",
       "    .dataframe tbody tr th {\n",
       "        vertical-align: top;\n",
       "    }\n",
       "</style>\n",
       "<table border=\"1\" class=\"dataframe\">\n",
       "  <thead>\n",
       "    <tr style=\"text-align: right;\">\n",
       "      <th></th>\n",
       "      <th>compra</th>\n",
       "      <th>ingrediente</th>\n",
       "      <th>unidade</th>\n",
       "    </tr>\n",
       "  </thead>\n",
       "  <tbody>\n",
       "    <tr>\n",
       "      <th>0</th>\n",
       "      <td>hortifruti</td>\n",
       "      <td>aipo</td>\n",
       "      <td>talo</td>\n",
       "    </tr>\n",
       "    <tr>\n",
       "      <th>1</th>\n",
       "      <td>hortifruti</td>\n",
       "      <td>abacate</td>\n",
       "      <td>unid</td>\n",
       "    </tr>\n",
       "    <tr>\n",
       "      <th>2</th>\n",
       "      <td>cp/mv</td>\n",
       "      <td>nozes</td>\n",
       "      <td>xic</td>\n",
       "    </tr>\n",
       "    <tr>\n",
       "      <th>3</th>\n",
       "      <td>hortifruti</td>\n",
       "      <td>azeitona preta</td>\n",
       "      <td>unid</td>\n",
       "    </tr>\n",
       "    <tr>\n",
       "      <th>4</th>\n",
       "      <td>hortifruti</td>\n",
       "      <td>azeite</td>\n",
       "      <td>clh</td>\n",
       "    </tr>\n",
       "    <tr>\n",
       "      <th>5</th>\n",
       "      <td>hortifruti</td>\n",
       "      <td>arroz branco</td>\n",
       "      <td>xic</td>\n",
       "    </tr>\n",
       "    <tr>\n",
       "      <th>6</th>\n",
       "      <td>hortifruti</td>\n",
       "      <td>papaya</td>\n",
       "      <td>unid</td>\n",
       "    </tr>\n",
       "    <tr>\n",
       "      <th>7</th>\n",
       "      <td>hortifruti</td>\n",
       "      <td>banana</td>\n",
       "      <td>unid</td>\n",
       "    </tr>\n",
       "    <tr>\n",
       "      <th>8</th>\n",
       "      <td>hortifruti</td>\n",
       "      <td>tapioca</td>\n",
       "      <td>xic</td>\n",
       "    </tr>\n",
       "    <tr>\n",
       "      <th>9</th>\n",
       "      <td>hortifruti</td>\n",
       "      <td>tomate</td>\n",
       "      <td>unid</td>\n",
       "    </tr>\n",
       "    <tr>\n",
       "      <th>10</th>\n",
       "      <td>hortifruti</td>\n",
       "      <td>cafe</td>\n",
       "      <td>clh</td>\n",
       "    </tr>\n",
       "    <tr>\n",
       "      <th>11</th>\n",
       "      <td>hortifruti</td>\n",
       "      <td>laranja pera</td>\n",
       "      <td>unid</td>\n",
       "    </tr>\n",
       "    <tr>\n",
       "      <th>12</th>\n",
       "      <td>hortifruti</td>\n",
       "      <td>ovo</td>\n",
       "      <td>unid</td>\n",
       "    </tr>\n",
       "    <tr>\n",
       "      <th>13</th>\n",
       "      <td>hortifruti</td>\n",
       "      <td>geleia</td>\n",
       "      <td>clh</td>\n",
       "    </tr>\n",
       "    <tr>\n",
       "      <th>14</th>\n",
       "      <td>hortifruti</td>\n",
       "      <td>feijao preto</td>\n",
       "      <td>xic</td>\n",
       "    </tr>\n",
       "    <tr>\n",
       "      <th>15</th>\n",
       "      <td>hortifruti</td>\n",
       "      <td>bife</td>\n",
       "      <td>unid</td>\n",
       "    </tr>\n",
       "    <tr>\n",
       "      <th>16</th>\n",
       "      <td>cp/mv</td>\n",
       "      <td>quinoa branca</td>\n",
       "      <td>xic</td>\n",
       "    </tr>\n",
       "    <tr>\n",
       "      <th>17</th>\n",
       "      <td>hortifruti</td>\n",
       "      <td>presunto</td>\n",
       "      <td>fat</td>\n",
       "    </tr>\n",
       "    <tr>\n",
       "      <th>18</th>\n",
       "      <td>hortifruti</td>\n",
       "      <td>melao</td>\n",
       "      <td>fat</td>\n",
       "    </tr>\n",
       "    <tr>\n",
       "      <th>19</th>\n",
       "      <td>hortifruti</td>\n",
       "      <td>limao</td>\n",
       "      <td>unid</td>\n",
       "    </tr>\n",
       "    <tr>\n",
       "      <th>20</th>\n",
       "      <td>hortifruti</td>\n",
       "      <td>acucar especial</td>\n",
       "      <td>clh</td>\n",
       "    </tr>\n",
       "  </tbody>\n",
       "</table>\n",
       "</div>"
      ],
      "text/plain": [
       "        compra      ingrediente unidade\n",
       "0   hortifruti             aipo    talo\n",
       "1   hortifruti          abacate    unid\n",
       "2        cp/mv            nozes     xic\n",
       "3   hortifruti   azeitona preta    unid\n",
       "4   hortifruti           azeite     clh\n",
       "5   hortifruti     arroz branco     xic\n",
       "6   hortifruti           papaya    unid\n",
       "7   hortifruti           banana    unid\n",
       "8   hortifruti          tapioca     xic\n",
       "9   hortifruti           tomate    unid\n",
       "10  hortifruti             cafe     clh\n",
       "11  hortifruti     laranja pera    unid\n",
       "12  hortifruti              ovo    unid\n",
       "13  hortifruti           geleia     clh\n",
       "14  hortifruti     feijao preto     xic\n",
       "15  hortifruti             bife    unid\n",
       "16       cp/mv    quinoa branca     xic\n",
       "17  hortifruti         presunto     fat\n",
       "18  hortifruti            melao     fat\n",
       "19  hortifruti            limao    unid\n",
       "20  hortifruti  acucar especial     clh"
      ]
     },
     "execution_count": 4,
     "metadata": {},
     "output_type": "execute_result"
    }
   ],
   "source": [
    "dfIngr = pd.DataFrame(columns = ['ingrediente', 'unidade'])\n",
    "for i in ingredientes:\n",
    "    dfIngr = incluirIngr(i[0], i[1], i[2], dfIngr)\n",
    "dfIngr"
   ]
  },
  {
   "cell_type": "markdown",
   "metadata": {},
   "source": [
    " "
   ]
  },
  {
   "cell_type": "markdown",
   "metadata": {},
   "source": [
    " "
   ]
  },
  {
   "cell_type": "markdown",
   "metadata": {},
   "source": [
    " "
   ]
  },
  {
   "cell_type": "markdown",
   "metadata": {},
   "source": [
    "### Receitas"
   ]
  },
  {
   "cell_type": "code",
   "execution_count": 21,
   "metadata": {
    "collapsed": true
   },
   "outputs": [],
   "source": [
    "def incluirReceita(nome, referencia, porcao, ingredientes, dfIn):\n",
    "    \n",
    "    for i in ingredientes:\n",
    "        if i[0] not in dfIngr['ingrediente'].values:\n",
    "            print(i[0], '\\tIngrediente não cadastrado!')\n",
    "    \n",
    "    df = pd.DataFrame(data = [[nome, referencia, porcao, ingredientes]],\\\n",
    "        columns = ['nome', 'referencia', 'porcao', 'ingredientes'])\n",
    "    return(dfIn.append(df, ignore_index = True))"
   ]
  },
  {
   "cell_type": "code",
   "execution_count": 30,
   "metadata": {
    "collapsed": true
   },
   "outputs": [],
   "source": [
    "# Incluir receitas\n",
    "receitas = [\n",
    "    ('ensalada aipo-palta', 'cocina chilena pag. 38', 2, [('aipo', 2), ('nozes', 1/2), ('abacate', 1/2), ('azeitona preta', 6), ('azeite', 3), ('limao', 1)]), \n",
    "    ('arroz branco cozido', 'NA', 4, [('arroz branco', 2)]), \n",
    "    ('feijao preto', 'NA', 4, [('feijao preto', 2)]), \n",
    "    ]  "
   ]
  },
  {
   "cell_type": "code",
   "execution_count": 31,
   "metadata": {
    "scrolled": false
   },
   "outputs": [
    {
     "data": {
      "text/html": [
       "<div>\n",
       "<style>\n",
       "    .dataframe thead tr:only-child th {\n",
       "        text-align: right;\n",
       "    }\n",
       "\n",
       "    .dataframe thead th {\n",
       "        text-align: left;\n",
       "    }\n",
       "\n",
       "    .dataframe tbody tr th {\n",
       "        vertical-align: top;\n",
       "    }\n",
       "</style>\n",
       "<table border=\"1\" class=\"dataframe\">\n",
       "  <thead>\n",
       "    <tr style=\"text-align: right;\">\n",
       "      <th></th>\n",
       "      <th>nome</th>\n",
       "      <th>referencia</th>\n",
       "      <th>porcao</th>\n",
       "      <th>ingredientes</th>\n",
       "    </tr>\n",
       "  </thead>\n",
       "  <tbody>\n",
       "    <tr>\n",
       "      <th>0</th>\n",
       "      <td>ensalada aipo-palta</td>\n",
       "      <td>cocina chilena pag. 38</td>\n",
       "      <td>2</td>\n",
       "      <td>[(aipo, 2), (nozes, 0.5), (abacate, 0.5), (aze...</td>\n",
       "    </tr>\n",
       "    <tr>\n",
       "      <th>1</th>\n",
       "      <td>arroz branco cozido</td>\n",
       "      <td>NA</td>\n",
       "      <td>4</td>\n",
       "      <td>[(arroz branco, 2)]</td>\n",
       "    </tr>\n",
       "    <tr>\n",
       "      <th>2</th>\n",
       "      <td>feijao preto</td>\n",
       "      <td>NA</td>\n",
       "      <td>4</td>\n",
       "      <td>[(feijao preto, 2)]</td>\n",
       "    </tr>\n",
       "  </tbody>\n",
       "</table>\n",
       "</div>"
      ],
      "text/plain": [
       "                  nome              referencia porcao  \\\n",
       "0  ensalada aipo-palta  cocina chilena pag. 38      2   \n",
       "1  arroz branco cozido                      NA      4   \n",
       "2         feijao preto                      NA      4   \n",
       "\n",
       "                                        ingredientes  \n",
       "0  [(aipo, 2), (nozes, 0.5), (abacate, 0.5), (aze...  \n",
       "1                                [(arroz branco, 2)]  \n",
       "2                                [(feijao preto, 2)]  "
      ]
     },
     "execution_count": 31,
     "metadata": {},
     "output_type": "execute_result"
    }
   ],
   "source": [
    "dfReceitas = pd.DataFrame(columns = ['nome', 'referencia', 'porcao', 'ingredientes'])\n",
    "for r in receitas:\n",
    "    dfReceitas = incluirReceita(r[0], r[1], r[2], r[3], dfReceitas)\n",
    "dfReceitas"
   ]
  },
  {
   "cell_type": "markdown",
   "metadata": {},
   "source": [
    " "
   ]
  },
  {
   "cell_type": "markdown",
   "metadata": {},
   "source": [
    " "
   ]
  },
  {
   "cell_type": "markdown",
   "metadata": {},
   "source": [
    " "
   ]
  },
  {
   "cell_type": "markdown",
   "metadata": {},
   "source": [
    "### Refeições"
   ]
  },
  {
   "cell_type": "code",
   "execution_count": 46,
   "metadata": {
    "collapsed": true
   },
   "outputs": [],
   "source": [
    "def incluirRefeicao(turno, receita_ingr, dfIn):\n",
    "    \n",
    "    for i in receita_ingr:\n",
    "        if i[0] == 'i':\n",
    "            if i[1] not in dfIngr['ingrediente'].values:\n",
    "                print(i[1], '\\tIngrediente não cadastrado!')\n",
    "        if i[0] == 'r':\n",
    "            if i[1] not in dfReceitas['nome'].values:\n",
    "                print(i[1], '\\tReceita não cadastrada!')\n",
    "    \n",
    "    df = pd.DataFrame(data = [[turno, receita_ingr]],\\\n",
    "        columns = ['turno', 'receita_ingr'])\n",
    "    return(dfIn.append(df, ignore_index = True))"
   ]
  },
  {
   "cell_type": "code",
   "execution_count": 53,
   "metadata": {
    "collapsed": true
   },
   "outputs": [],
   "source": [
    "# Incluir refeições\n",
    "refeicoes = [\n",
    "    ('jantar', [('i', 'quinoa branca', 1), ('r', 'ensalada aipo-palta', 1)]), \n",
    "    ('manha', [('i', 'papaya', 1/2), ('i', 'banana', 1), ('i', 'laranja pera', 1), ('i', 'tapioca', 1), ('i', 'tomate', 1/2), ('i', 'cafe', 1)]), \n",
    "    ('manha', [('i', 'ovo', 1), ('i', 'laranja pera', 1), ('i', 'geleia', 1), ('i', 'abacate', 1/5), ('i', 'azeite', 1), ('i', 'tapioca', 1), ('i', 'cafe', 1)]), \n",
    "    ('almoco', [('r', 'arroz branco cozido', 1), ('r', 'feijao preto', 1), ('i', 'bife', 1)]), \n",
    "    ('manha', [('i', 'ovo', 2), ('i', 'presunto', 1), ('i', 'melao', 1), ('i', 'limao', 1/2), ('i', 'acucar especial', 1), ('i', 'tapioca', 1), ('i', 'cafe', 1)]), \n",
    "    ]  "
   ]
  },
  {
   "cell_type": "code",
   "execution_count": 54,
   "metadata": {
    "scrolled": false
   },
   "outputs": [],
   "source": [
    "dfRefeicao = pd.DataFrame(columns = ['turno', 'receita_ingr'])\n",
    "for r in refeicoes:\n",
    "    dfRefeicao = incluirRefeicao(r[0], r[1], dfRefeicao)"
   ]
  },
  {
   "cell_type": "code",
   "execution_count": 55,
   "metadata": {},
   "outputs": [
    {
     "name": "stdout",
     "output_type": "stream",
     "text": [
      "manha :\n",
      "    papaya, banana, laranja pera, tapioca, tomate, cafe, \n",
      "    ovo, laranja pera, geleia, abacate, azeite, tapioca, cafe, \n",
      "    ovo, presunto, melao, limao, acucar especial, tapioca, cafe, \n",
      "\n",
      "jantar :\n",
      "    quinoa branca, ensalada aipo-palta, \n",
      "\n",
      "almoco :\n",
      "    arroz branco cozido, feijao preto, bife, \n",
      "\n"
     ]
    }
   ],
   "source": [
    "for t in set(dfRefeicao['turno']):\n",
    "    print(t, ':')\n",
    "    df = dfRefeicao[dfRefeicao['turno'] == t]\n",
    "    for i in range(df.shape[0]):\n",
    "        s = ''\n",
    "        for j in df.iloc[i]['receita_ingr']:\n",
    "            s += j[1] + ', '\n",
    "        print('   ', s)\n",
    "    print()   "
   ]
  },
  {
   "cell_type": "markdown",
   "metadata": {},
   "source": [
    " "
   ]
  },
  {
   "cell_type": "markdown",
   "metadata": {},
   "source": [
    " "
   ]
  },
  {
   "cell_type": "markdown",
   "metadata": {},
   "source": [
    " "
   ]
  },
  {
   "cell_type": "markdown",
   "metadata": {},
   "source": [
    "### Cardapio"
   ]
  },
  {
   "cell_type": "code",
   "execution_count": 56,
   "metadata": {},
   "outputs": [],
   "source": [
    "dias_porcoes = np.array([[2, 2, 2], \n",
    "                         [2, 2, 2], \n",
    "                         [2, 2, 2], \n",
    "                         [2, 2, 2], \n",
    "                         [2, 2, 2], \n",
    "                         [2, 2, 2], \n",
    "                         [2, 2, 2]])"
   ]
  },
  {
   "cell_type": "code",
   "execution_count": 57,
   "metadata": {},
   "outputs": [],
   "source": [
    "dfCardapio = pd.DataFrame(columns = ['manha', 'tarde', 'jantar'])\n",
    "\n",
    "for d in dias_porcoes:\n",
    "    \n",
    "    manha_ = dfRefeicao[dfRefeicao['turno'] == 'manha']['receita_ingr'].sample(1).values\n",
    "    almoco_ = dfRefeicao[dfRefeicao['turno'] == 'almoco']['receita_ingr'].sample(1).values\n",
    "    jantar_ = dfRefeicao[dfRefeicao['turno'] == 'jantar']['receita_ingr'].sample(1).values\n",
    "    \n",
    "    df_ = pd.DataFrame(data = [[manha_, almoco_, jantar_]],\\\n",
    "        columns = ['manha', 'tarde', 'jantar'])\n",
    "    \n",
    "    dfCardapio = dfCardapio.append(df_, ignore_index = True)"
   ]
  },
  {
   "cell_type": "code",
   "execution_count": 58,
   "metadata": {
    "scrolled": false
   },
   "outputs": [
    {
     "data": {
      "text/html": [
       "<table border=\"1\" class=\"dataframe\">\n",
       "  <thead>\n",
       "    <tr style=\"text-align: right;\">\n",
       "      <th></th>\n",
       "      <th>manha</th>\n",
       "      <th>tarde</th>\n",
       "      <th>jantar</th>\n",
       "    </tr>\n",
       "  </thead>\n",
       "  <tbody>\n",
       "    <tr>\n",
       "      <th>0</th>\n",
       "      <td>ovo 2<br>presunto 1<br>melao 1<br>limao 0.5<br>acucar especial 1<br>tapioca 1<br>cafe 1<br></td>\n",
       "      <td>arroz branco cozido 1<br>feijao preto 1<br>bife 1<br></td>\n",
       "      <td>quinoa branca 1<br>ensalada aipo-palta 1<br></td>\n",
       "    </tr>\n",
       "    <tr>\n",
       "      <th>1</th>\n",
       "      <td>ovo 2<br>presunto 1<br>melao 1<br>limao 0.5<br>acucar especial 1<br>tapioca 1<br>cafe 1<br></td>\n",
       "      <td>arroz branco cozido 1<br>feijao preto 1<br>bife 1<br></td>\n",
       "      <td>quinoa branca 1<br>ensalada aipo-palta 1<br></td>\n",
       "    </tr>\n",
       "    <tr>\n",
       "      <th>2</th>\n",
       "      <td>ovo 2<br>presunto 1<br>melao 1<br>limao 0.5<br>acucar especial 1<br>tapioca 1<br>cafe 1<br></td>\n",
       "      <td>arroz branco cozido 1<br>feijao preto 1<br>bife 1<br></td>\n",
       "      <td>quinoa branca 1<br>ensalada aipo-palta 1<br></td>\n",
       "    </tr>\n",
       "    <tr>\n",
       "      <th>3</th>\n",
       "      <td>papaya 0.5<br>banana 1<br>laranja pera 1<br>tapioca 1<br>tomate 0.5<br>cafe 1<br></td>\n",
       "      <td>arroz branco cozido 1<br>feijao preto 1<br>bife 1<br></td>\n",
       "      <td>quinoa branca 1<br>ensalada aipo-palta 1<br></td>\n",
       "    </tr>\n",
       "    <tr>\n",
       "      <th>4</th>\n",
       "      <td>papaya 0.5<br>banana 1<br>laranja pera 1<br>tapioca 1<br>tomate 0.5<br>cafe 1<br></td>\n",
       "      <td>arroz branco cozido 1<br>feijao preto 1<br>bife 1<br></td>\n",
       "      <td>quinoa branca 1<br>ensalada aipo-palta 1<br></td>\n",
       "    </tr>\n",
       "    <tr>\n",
       "      <th>5</th>\n",
       "      <td>ovo 2<br>presunto 1<br>melao 1<br>limao 0.5<br>acucar especial 1<br>tapioca 1<br>cafe 1<br></td>\n",
       "      <td>arroz branco cozido 1<br>feijao preto 1<br>bife 1<br></td>\n",
       "      <td>quinoa branca 1<br>ensalada aipo-palta 1<br></td>\n",
       "    </tr>\n",
       "    <tr>\n",
       "      <th>6</th>\n",
       "      <td>papaya 0.5<br>banana 1<br>laranja pera 1<br>tapioca 1<br>tomate 0.5<br>cafe 1<br></td>\n",
       "      <td>arroz branco cozido 1<br>feijao preto 1<br>bife 1<br></td>\n",
       "      <td>quinoa branca 1<br>ensalada aipo-palta 1<br></td>\n",
       "    </tr>\n",
       "  </tbody>\n",
       "</table>"
      ],
      "text/plain": [
       "<IPython.core.display.HTML object>"
      ]
     },
     "metadata": {},
     "output_type": "display_data"
    }
   ],
   "source": [
    "from IPython.display import display, HTML\n",
    "\n",
    "def pretty_print(df):\n",
    "    return display(HTML(df.to_html().replace(\"\\\\n\",\"<br>\")))\n",
    "\n",
    "def prettyPrint(x):\n",
    "    s = ''\n",
    "    for i in x[0]: s += i[1] + ' ' + str(i[2]) + '\\n'\n",
    "    return(s)\n",
    "        \n",
    "pd.options.display.max_colwidth = 100\n",
    "pretty_print(dfCardapio.applymap(lambda x: prettyPrint(x)))"
   ]
  },
  {
   "cell_type": "markdown",
   "metadata": {},
   "source": [
    " "
   ]
  },
  {
   "cell_type": "markdown",
   "metadata": {},
   "source": [
    " "
   ]
  },
  {
   "cell_type": "markdown",
   "metadata": {},
   "source": [
    "### Cardapio"
   ]
  },
  {
   "cell_type": "code",
   "execution_count": 61,
   "metadata": {},
   "outputs": [],
   "source": [
    "# Monta lista mercado\n",
    "listaMerc = {}\n",
    "\n",
    "for i in range(dfCardapio.shape[0]):\n",
    "    for j in range(dfCardapio.shape[1]):\n",
    "        \n",
    "        c = dfCardapio.iloc[i ,j][0]\n",
    "        for k in c:\n",
    "           \n",
    "            if k[0] == 'i':\n",
    "                ingr = k[1]\n",
    "                qtd = k[2] * dias_porcoes[i, j]\n",
    "\n",
    "                if ingr not in listaMerc:\n",
    "                    listaMerc.update({ingr: qtd})\n",
    "                else:\n",
    "                    listaMerc[ingr] += qtd\n",
    "\n",
    "            if k[0] == 'r':\n",
    "                \n",
    "                rec = k[1]\n",
    "                qtd = k[2] * dias_porcoes[i, j]\n",
    "                \n",
    "                rec_ = dfReceitas[dfReceitas['nome'] == rec]\n",
    "                ingr = rec_['ingredientes']\n",
    "                \n",
    "                for m in ingr:\n",
    "                    \n",
    "                    m = m[0]\n",
    "                    \n",
    "                    ingr_ = m[0]\n",
    "                    qtd_ = m[1]\n",
    "                \n",
    "                    if ingr_ not in listaMerc:\n",
    "                        listaMerc.update({ingr_: qtd_})\n",
    "                    else:\n",
    "                        listaMerc[ingr_] += qtd_"
   ]
  },
  {
   "cell_type": "code",
   "execution_count": 63,
   "metadata": {},
   "outputs": [
    {
     "name": "stdout",
     "output_type": "stream",
     "text": [
      "hortifruti :\n",
      "     ovo                     16 unid                \n",
      "     presunto                 8 fat                 \n",
      "     melao                    8 fat                 \n",
      "     limao                    4 unid                \n",
      "     acucar especial          8 clh                 \n",
      "     tapioca                 14 xic                 \n",
      "     cafe                    14 clh                 \n",
      "     arroz branco            14 xic                 \n",
      "     feijao preto            14 xic                 \n",
      "     bife                    14 unid                \n",
      "     aipo                    14 talo                \n",
      "     papaya                   3 unid                \n",
      "     banana                   6 unid                \n",
      "     laranja pera             6 unid                \n",
      "     tomate                   3 unid                \n",
      "\n",
      "\n",
      "\n",
      "cp/mv :\n",
      "     quinoa branca           14 xic                 \n",
      "\n",
      "\n",
      "\n"
     ]
    }
   ],
   "source": [
    "# Print lista mercado\n",
    "for c in set(dfIngr['compra']):\n",
    "    print(c, ':')\n",
    "    df = dfIngr[dfIngr['compra'] == c]\n",
    "    for i in listaMerc:\n",
    "        if i in df['ingrediente'].values:\n",
    "            unid = df[df['ingrediente'] == i]['unidade'].values[0]\n",
    "            qtd = listaMerc[i]\n",
    "            print(('     {:15s} {:>10.0f} {:<20s}').format(i, qtd, unid) )\n",
    "    print('\\n\\n')  "
   ]
  },
  {
   "cell_type": "code",
   "execution_count": null,
   "metadata": {},
   "outputs": [],
   "source": []
  },
  {
   "cell_type": "code",
   "execution_count": null,
   "metadata": {},
   "outputs": [],
   "source": []
  },
  {
   "cell_type": "code",
   "execution_count": null,
   "metadata": {},
   "outputs": [],
   "source": []
  },
  {
   "cell_type": "code",
   "execution_count": null,
   "metadata": {
    "collapsed": true
   },
   "outputs": [],
   "source": []
  },
  {
   "cell_type": "code",
   "execution_count": null,
   "metadata": {
    "collapsed": true
   },
   "outputs": [],
   "source": []
  },
  {
   "cell_type": "code",
   "execution_count": null,
   "metadata": {
    "collapsed": true
   },
   "outputs": [],
   "source": []
  },
  {
   "cell_type": "code",
   "execution_count": null,
   "metadata": {
    "collapsed": true
   },
   "outputs": [],
   "source": []
  },
  {
   "cell_type": "code",
   "execution_count": null,
   "metadata": {
    "collapsed": true
   },
   "outputs": [],
   "source": []
  },
  {
   "cell_type": "code",
   "execution_count": null,
   "metadata": {
    "collapsed": true
   },
   "outputs": [],
   "source": []
  },
  {
   "cell_type": "code",
   "execution_count": null,
   "metadata": {
    "collapsed": true
   },
   "outputs": [],
   "source": []
  }
 ],
 "metadata": {
  "kernelspec": {
   "display_name": "Python 3",
   "language": "python",
   "name": "python3"
  },
  "language_info": {
   "codemirror_mode": {
    "name": "ipython",
    "version": 3
   },
   "file_extension": ".py",
   "mimetype": "text/x-python",
   "name": "python",
   "nbconvert_exporter": "python",
   "pygments_lexer": "ipython3",
   "version": "3.6.3"
  }
 },
 "nbformat": 4,
 "nbformat_minor": 2
}
